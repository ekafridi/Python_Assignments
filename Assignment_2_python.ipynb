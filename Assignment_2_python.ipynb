{
 "cells": [
  {
   "cell_type": "code",
   "execution_count": 1,
   "metadata": {},
   "outputs": [
    {
     "name": "stdout",
     "output_type": "stream",
     "text": [
      "\n",
      "Enter student name:\t 455\n",
      "Enter student Roll number    :\t 1123\n",
      "Enter Marks Obtain for English Out of 100 98\n",
      "Enter Marks Obtain for Urdu Out of 100 99\n",
      "Enter Marks Obtain for Maths Out of 100 85\n",
      "Enter Marks Obtain for Biology Out of 100 75\n",
      "Enter Marks Obtain for Islamiat Out of 100 95\n",
      "-----------------------------------------------------------------------------------------------------------------------\n",
      "\n",
      "\t\t\t\t\tSAYLANI MASS IT TRAINING INSTITUTE\n",
      "\t\t\t\t\t       Marks Sheet Program \n",
      "\t\t\t\t\t       [Powered by PYTHON]\n",
      "\t\t\t\t\t\t\t\t\t\tPrint Date & Time  2019-11-28 17:52:16.561365\n",
      "Name of Student :  455\n",
      "Roll # of Student :  1123\n",
      "\n",
      "Subject\t\t:\tMarks Obtained\t \\ Total Marks\n",
      "\n",
      "English  \t:\t98\t\t \\ 100\n",
      "Urdu     \t:\t99\t\t \\ 100\n",
      "Maths    \t:\t85\t\t \\ 100\n",
      "Biology  \t:\t75\t\t \\ 100\n",
      "Islamiat \t:\t95\t\t \\ 100\n",
      "\n",
      "Total Marks Obtained = 452 Out of Total Subject Marks 500\n",
      "Grade : A-1 \n",
      "Percentage :90.4 %\n"
     ]
    }
   ],
   "source": [
    "#Q_1\n",
    "\n",
    "std_name = input(\"\\nEnter student name:\\t \")\n",
    "std_roll = input(\"Enter student Roll number    :\\t \")\n",
    "\n",
    "subjects = {}\n",
    "subjects ['English  '] = int(input('Enter Marks Obtain for English Out of 100 '))\n",
    "subjects ['Urdu     '] = int(input('Enter Marks Obtain for Urdu Out of 100 '))\n",
    "subjects ['Maths    '] = int(input('Enter Marks Obtain for Maths Out of 100 '))\n",
    "subjects ['Biology  '] = int(input('Enter Marks Obtain for Biology Out of 100 '))\n",
    "subjects ['Islamiat '] = int(input('Enter Marks Obtain for Islamiat Out of 100 '))\n",
    "\n",
    "print(\"-----------------------------------------------------------------------------------------------------------------------\")\n",
    "print(\"\\n\\t\\t\\t\\t\\tSAYLANI MASS IT TRAINING INSTITUTE\")\n",
    "print(\"\\t\\t\\t\\t\\t       Marks Sheet Program \\n\\t\\t\\t\\t\\t       [Powered by PYTHON]\")\n",
    "\n",
    "from datetime import datetime\n",
    "today = datetime.now()\n",
    "print(\"\\t\\t\\t\\t\\t\\t\\t\\t\\t\\tPrint Date & Time \",today)\n",
    "\n",
    "print(\"Name of Student : \" +\" \"+ std_name.upper())\n",
    "print(\"Roll # of Student : \" +\" \"+ std_roll)\n",
    "print(\"\\nSubject\\t\\t:\\tMarks Obtained\\t \\ Total Marks\\n\")\n",
    "\n",
    "\n",
    "for key, value in subjects.items():\n",
    "    print(key +\"\\t:\"+\"\\t\" +str(value) + \"\\t\\t \\ 100\")\n",
    "    \n",
    "marks_total = sum(subjects.values())    \n",
    "print (\"\\nTotal Marks Obtained = \" + str(marks_total) + \" Out of Total Subject Marks 500\")\n",
    "\n",
    "if marks_total >= 450 and marks_total <=500:\n",
    "    print(\"Grade : A-1 \")\n",
    "    \n",
    "elif marks_total >= 400 and marks_total <= 449:\n",
    "    print(\"Grade : A \")\n",
    "    \n",
    "elif marks_total >= 350 and marks_total <= 399:\n",
    "    print(\"Grade : B \")\n",
    "\n",
    "elif marks_total >= 300 and marks_total <= 349:\n",
    "    print(\"Grade : C \")\n",
    "    \n",
    "elif marks_total >= 250 and marks_total <= 299:\n",
    "    print(\"Grade : D \")\n",
    "\n",
    "elif marks_total >= 0 and marks_total <= 249:\n",
    "    print(\"Grade : Fail \")\n",
    "    \n",
    "else:\n",
    "    print(\"Invalid input entered \")\n",
    "    \n",
    "percent = round((marks_total/500)*100,2)\n",
    "\n",
    "print(\"Percentage :\" + str(percent) + \" %\")\n"
   ]
  },
  {
   "cell_type": "code",
   "execution_count": 6,
   "metadata": {},
   "outputs": [
    {
     "name": "stdout",
     "output_type": "stream",
     "text": [
      "Please enter your desired number 8\n",
      "You have entered an Even Number !\n"
     ]
    }
   ],
   "source": [
    "#Q_2\n",
    "\n",
    "num = input(\"Please enter your desired number \")\n",
    "\n",
    "if float(num) % 2 == 1:\n",
    "    print (\"You have entered an Odd Number !\")\n",
    "\n",
    "elif float(num) % 2 == 0:\n",
    "    print (\"You have entered an Even Number !\")\n",
    "       \n",
    "else:\n",
    "    print (\"You have entered an invalid value !\")\n"
   ]
  },
  {
   "cell_type": "code",
   "execution_count": 7,
   "metadata": {},
   "outputs": [
    {
     "name": "stdout",
     "output_type": "stream",
     "text": [
      "Number of employees are: 7\n"
     ]
    }
   ],
   "source": [
    "# Q_3  \n",
    "\n",
    "employees = ['kamran', 'shoaib', 'adeel', 'zeeshan', 'sohail', 'mirza', 'mohsin']\n",
    "    \n",
    "# Employees Number disply\n",
    "print (\"Number of employees are:\", len(employees))\n"
   ]
  },
  {
   "cell_type": "code",
   "execution_count": 10,
   "metadata": {},
   "outputs": [
    {
     "name": "stdout",
     "output_type": "stream",
     "text": [
      "[1, 3, 5, 7, 9, 11]\n",
      "Sum of all nuumbers in given list:  36\n"
     ]
    }
   ],
   "source": [
    "# Q_4  \n",
    "\n",
    "number_list = list(range(1,12,2))\n",
    "print (number_list)  \n",
    "total = sum(number_list) \n",
    "print(\"Sum of all nuumbers in given list: \", total) "
   ]
  },
  {
   "cell_type": "code",
   "execution_count": 11,
   "metadata": {},
   "outputs": [
    {
     "name": "stdout",
     "output_type": "stream",
     "text": [
      "[1, 3, 5, 7, 9, 11]\n",
      "Largest of all nuumbers in given list:  11\n"
     ]
    }
   ],
   "source": [
    "# Q_5  \n",
    "\n",
    "number_list = list(range(1,12,2))\n",
    "print (number_list)\n",
    "  \n",
    "larger = max(number_list) \n",
    "\n",
    "print(\"Largest of all nuumbers in given list: \", larger) "
   ]
  },
  {
   "cell_type": "code",
   "execution_count": 13,
   "metadata": {},
   "outputs": [
    {
     "name": "stdout",
     "output_type": "stream",
     "text": [
      "1\n",
      "1\n",
      "2\n",
      "3\n"
     ]
    }
   ],
   "source": [
    "# Q_6 \n",
    "\n",
    "a = [1, 1, 2, 3, 5, 8, 13, 21, 34, 55, 89]\n",
    "\n",
    "for b in a:\n",
    "    if b < 5:\n",
    "        print (b)"
   ]
  },
  {
   "cell_type": "code",
   "execution_count": null,
   "metadata": {},
   "outputs": [],
   "source": []
  }
 ],
 "metadata": {
  "kernelspec": {
   "display_name": "Python 3",
   "language": "python",
   "name": "python3"
  },
  "language_info": {
   "codemirror_mode": {
    "name": "ipython",
    "version": 3
   },
   "file_extension": ".py",
   "mimetype": "text/x-python",
   "name": "python",
   "nbconvert_exporter": "python",
   "pygments_lexer": "ipython3",
   "version": "3.7.3"
  }
 },
 "nbformat": 4,
 "nbformat_minor": 2
}
