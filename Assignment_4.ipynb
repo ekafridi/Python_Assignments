{
 "cells": [
  {
   "cell_type": "code",
   "execution_count": 2,
   "metadata": {},
   "outputs": [
    {
     "name": "stdout",
     "output_type": "stream",
     "text": [
      "enter the age :press q for quite the program :2\n",
      "free\n",
      "enter the age :press q for quite the program :3\n",
      "10$\n",
      "enter the age :press q for quite the program :4\n",
      "10$\n",
      "enter the age :press q for quite the program :15\n",
      "15$\n",
      "enter the age :press q for quite the program :q\n"
     ]
    }
   ],
   "source": [
    "prompt = \"enter the age :\"\n",
    "prompt += \"press q for quite the program :\"\n",
    "\n",
    "while True:\n",
    "    age = input(prompt)\n",
    "    if age == 'q':\n",
    "        break\n",
    "    age = int(age)\n",
    "    \n",
    "    if age < 3:\n",
    "        print(\"free\")\n",
    "    elif age < 13:\n",
    "        print(\"10$\")\n",
    "    else:\n",
    "        print(\"15$\")"
   ]
  },
  {
   "cell_type": "code",
   "execution_count": 3,
   "metadata": {},
   "outputs": [
    {
     "name": "stdout",
     "output_type": "stream",
     "text": [
      " my favorite book is alice in wonderland\n"
     ]
    }
   ],
   "source": [
    "def favorite_book(title):\n",
    "    print(\" my favorite book is \" + title )\n",
    "favorite_book(\"alice in wonderland\")"
   ]
  },
  {
   "cell_type": "code",
   "execution_count": 2,
   "metadata": {},
   "outputs": [
    {
     "name": "stdout",
     "output_type": "stream",
     "text": [
      "Hello! What is your name?\n",
      "hammad\n",
      "Well, hammad, I am thinking of a number between 1 and 20.\n",
      "Take a guess.\n",
      "15\n",
      "Your guess is too low.\n",
      "Take a guess.\n",
      "18\n",
      "Your guess is too low.\n",
      "Take a guess.\n",
      "17\n",
      "Your guess is too low.\n",
      "Nope. The number I was thinking of was 20\n"
     ]
    }
   ],
   "source": [
    " # This is a guess the number game.\n",
    "\n",
    "import random\n",
    "\n",
    " guessesTaken = 0\n",
    "\n",
    "print('Hello! What is your name?')\n",
    "myName = input()\n",
    "number = random.randint(1, 20)\n",
    "print('Well, ' + myName + ', I am thinking of a number between 1 and 20.')\n",
    "while guessesTaken < 3:\n",
    "    print('Take a guess.') # There are four spaces in front of print.\n",
    "    guess = input()\n",
    "    guess = int(guess)\n",
    "    guessesTaken = guessesTaken + 1\n",
    "    if guess < number:\n",
    "        print('Your guess is too low.') # There are eight spaces in front of print.\n",
    "    if guess > number:\n",
    "        print('Your guess is too high.')\n",
    "    if guess == number:\n",
    "        break\n",
    "if guess == number:    \n",
    "    guessesTaken = str(guessesTaken)\n",
    "    print('Good job, ' + myName + '!You guessed my number in ' + guessesTaken + ' guesses!')\n",
    "if guess != number:\n",
    "    number = str(number)\n",
    "    print('Nope. The number I was thinking of was ' + number)"
   ]
  },
  {
   "cell_type": "code",
   "execution_count": 1,
   "metadata": {},
   "outputs": [
    {
     "name": "stdout",
     "output_type": "stream",
     "text": [
      "enter the number :4\n",
      "game over\n"
     ]
    }
   ],
   "source": [
    "import random\n",
    "\n",
    "guess = 0\n",
    "number = random.randint(1,20)\n",
    "\n",
    "while guess < 3:\n",
    "    guess = input(\"enter the number :\")\n",
    "    guess = int(guess)\n",
    "    guess = guess + 1\n",
    "    \n",
    "if guess == number:\n",
    "    print(\"good guess\")\n",
    "if guess != number:\n",
    "    print(\"game over\")"
   ]
  },
  {
   "cell_type": "code",
   "execution_count": null,
   "metadata": {},
   "outputs": [],
   "source": []
  }
 ],
 "metadata": {
  "kernelspec": {
   "display_name": "Python 3",
   "language": "python",
   "name": "python3"
  },
  "language_info": {
   "codemirror_mode": {
    "name": "ipython",
    "version": 3
   },
   "file_extension": ".py",
   "mimetype": "text/x-python",
   "name": "python",
   "nbconvert_exporter": "python",
   "pygments_lexer": "ipython3",
   "version": "3.7.3"
  }
 },
 "nbformat": 4,
 "nbformat_minor": 2
}
