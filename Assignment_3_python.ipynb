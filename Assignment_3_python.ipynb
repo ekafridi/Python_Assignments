{
 "cells": [
  {
   "cell_type": "code",
   "execution_count": 4,
   "metadata": {},
   "outputs": [
    {
     "name": "stdout",
     "output_type": "stream",
     "text": [
      "Welcome to Python Calculator.\n",
      "Select given options to perform operation.\n",
      "1-Add.\n",
      "2-Subtrct.\n",
      "3-Multiply.\n",
      "4-Divide\n",
      "Enter Choice: 1\n",
      "Addition menu selected.\n",
      "Enter first number.1\n",
      "Enter second number.1\n",
      "The result is:  2\n",
      "Do you want another calculation? Enter yes or no... 1\n"
     ]
    }
   ],
   "source": [
    "# Q_1 \n",
    "print(\"Welcome to Python Calculator.\\nSelect given options to perform operation.\")\n",
    "print(\"1-Add.\\n2-Subtrct.\\n3-Multiply.\\n4-Divide\")\n",
    "options = [1,2,3,4]\n",
    "cont = \"yes\"\n",
    "\n",
    "while cont == \"yes\":\n",
    "    ch = int(input(\"Enter Choice: \"))\n",
    "    if ch not in options:\n",
    "        print(\"Wrong option selected, please select correct option.\")\n",
    "    elif ch == 1:\n",
    "        print(\"Addition menu selected.\")\n",
    "        num1 = int(input(\"Enter first number.\"))\n",
    "        num2 = int(input(\"Enter second number.\"))\n",
    "        num3 = num1+num2\n",
    "        print(\"The result is: \",num3)\n",
    "    elif ch == 2:\n",
    "        print(\"Subtraction menu selected.\")\n",
    "        num1 = int(input(\"Enter first number.\"))\n",
    "        num2 = int(input(\"Enter second number.\"))\n",
    "        num3 = num1-num2\n",
    "        print(\"The result is: \",num3)\n",
    "    elif ch == 3:\n",
    "        print(\"Multiplication menu selected.\")\n",
    "        num1 = int(input(\"Enter first number.\"))\n",
    "        num2 = int(input(\"Enter second number.\"))\n",
    "        num3 = num1*num2\n",
    "        print(\"The result is: \",num3)\n",
    "    elif ch == 4:\n",
    "        print(\"Division menu selected.\")\n",
    "        num1 = int(input(\"Enter first number.\"))\n",
    "        num2 = int(input(\"Enter second number.\"))\n",
    "        num3 = num1//num2\n",
    "        print(\"The result is: \",num3)\n",
    "    cont = input(\"Do you want another calculation? Enter yes or no... \").lower()\n",
    "    \n"
   ]
  },
  {
   "cell_type": "code",
   "execution_count": 6,
   "metadata": {},
   "outputs": [
    {
     "name": "stdout",
     "output_type": "stream",
     "text": [
      "[2, 5, 8]\n"
     ]
    }
   ],
   "source": [
    "# Q_2\n",
    "\n",
    "list_0 = ['Ehsan', 2, 5, 8 ]\n",
    "\n",
    "list_1 = [num for num in list_0 if isinstance(num, (int,float))]\n",
    "print (list_1)\n"
   ]
  },
  {
   "cell_type": "code",
   "execution_count": null,
   "metadata": {},
   "outputs": [],
   "source": []
  }
 ],
 "metadata": {
  "kernelspec": {
   "display_name": "Python 3",
   "language": "python",
   "name": "python3"
  },
  "language_info": {
   "codemirror_mode": {
    "name": "ipython",
    "version": 3
   },
   "file_extension": ".py",
   "mimetype": "text/x-python",
   "name": "python",
   "nbconvert_exporter": "python",
   "pygments_lexer": "ipython3",
   "version": "3.7.3"
  }
 },
 "nbformat": 4,
 "nbformat_minor": 2
}
